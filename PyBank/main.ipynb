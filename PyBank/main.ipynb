{
 "cells": [
  {
   "cell_type": "code",
   "execution_count": 1,
   "id": "5ecc9283",
   "metadata": {},
   "outputs": [],
   "source": [
    "# Import libraries\n",
    "from pathlib import Path\n",
    "import csv"
   ]
  },
  {
   "cell_type": "code",
   "execution_count": 3,
   "id": "e52deff5",
   "metadata": {},
   "outputs": [],
   "source": [
    "# Set file paths for budget_data.csv \n",
    "csvpath = Path(\"./Resources/budget_data.csv\")"
   ]
  },
  {
   "cell_type": "code",
   "execution_count": 4,
   "id": "81783cca",
   "metadata": {},
   "outputs": [
    {
     "name": "stdout",
     "output_type": "stream",
     "text": [
      "['Jan-2010', '867884']\n"
     ]
    }
   ],
   "source": [
    "# Read the csv and convert it into a list of dictionaries\n",
    "total_months = 0\n",
    "total_net = 0\n",
    "month_change = []\n",
    "average_change = []\n",
    "greatest_increase = [\"\", 0]\n",
    "greatest_decrease = [\"\", 9999999999999999999]\n",
    "\n",
    "with open(csvpath) as budget_data:\n",
    "    reader = csv.reader(budget_data)\n",
    "\n",
    "    # Read the header row\n",
    "    header = next(reader)\n",
    "\n",
    "    # Extract first row to avoid appending to net_change_list\n",
    "    first_row = next(reader)\n",
    "    total_months = total_months + 1\n",
    "    total_net = total_net + int(first_row[1])\n",
    "    prev_net = int(first_row[1])\n",
    "    print(first_row)\n",
    "   \n",
    "    for row in reader:\n",
    "        # Track the total\n",
    "        total_months = total_months + 1\n",
    "        total_net = total_net + int(row[1])\n",
    "\n",
    "        # Track the net change\n",
    "        net_change = int(row[1]) - prev_net\n",
    "        prev_net = int(row[1])\n",
    "        average_change = average_change + [net_change]\n",
    "        month_change = month_change + [row[0]]\n",
    "        \n",
    "        # Calculate the greatest increase\n",
    "        if net_change > greatest_increase[1]:\n",
    "            greatest_increase[0] = row[0]\n",
    "            greatest_increase[1] = net_change\n",
    "\n",
    "        # Calculate the greatest decrease\n",
    "        if net_change < greatest_decrease[1]:\n",
    "            greatest_decrease[0] = row[0]\n",
    "            greatest_decrease[1] = net_change"
   ]
  },
  {
   "cell_type": "code",
   "execution_count": 5,
   "id": "deb9b763",
   "metadata": {},
   "outputs": [],
   "source": [
    "# Calculate the Average Net Change\n",
    "average_change = round(sum(average_change) / len(average_change),2)"
   ]
  },
  {
   "cell_type": "code",
   "execution_count": 6,
   "id": "c429d971",
   "metadata": {},
   "outputs": [],
   "source": [
    "# Export the results to text file\n",
    "with open(Path(\"budget_analysis.txt\"), \"w\") as txt_file:\n",
    "    txt_file.write(f\"Financial Analysis\\n\")\n",
    "    txt_file.write(f\"----------------------------\\n\")\n",
    "    txt_file.write(f\"Total Months: {total_months}\\n\")\n",
    "    txt_file.write(f\"Total: ${total_net}\\n\")\n",
    "    txt_file.write(f\"Average  Change: ${average_change}\\n\")\n",
    "    txt_file.write(f\"Greatest Increase in Profits: {greatest_increase[0]} (${greatest_increase[1]})\\n\")\n",
    "    txt_file.write(f\"Greatest Decrease in Profits: {greatest_decrease[0]} (${greatest_decrease[1]})\\n\")"
   ]
  },
  {
   "cell_type": "code",
   "execution_count": 7,
   "id": "913bd673",
   "metadata": {},
   "outputs": [
    {
     "name": "stdout",
     "output_type": "stream",
     "text": [
      "\n",
      "Financial Analysis\n",
      "----------------------------------\n",
      "\n",
      "Total Months 86\n",
      "Your profit is: $38382578\n",
      "Average  Change: $-2315.12\n",
      "Greatest Increase in Profits: ($['Feb-2012', 1926159])\n",
      "Greatest Decrease in Profits: ($['Sep-2013', -2196167])\n"
     ]
    }
   ],
   "source": [
    "# Print Financial Analysis \n",
    "print(f\"\\nFinancial Analysis\\n----------------------------------\\n\")\n",
    "print(f\"Total Months {total_months}\")\n",
    "print(f\"Your profit is: ${total_net}\")\n",
    "print(f\"Average  Change: ${average_change}\")\n",
    "print(f\"Greatest Increase in Profits: (${greatest_increase})\")\n",
    "print(f\"Greatest Decrease in Profits: (${greatest_decrease})\")"
   ]
  }
 ],
 "metadata": {
  "kernelspec": {
   "display_name": "Python 3 (ipykernel)",
   "language": "python",
   "name": "python3"
  },
  "language_info": {
   "codemirror_mode": {
    "name": "ipython",
    "version": 3
   },
   "file_extension": ".py",
   "mimetype": "text/x-python",
   "name": "python",
   "nbconvert_exporter": "python",
   "pygments_lexer": "ipython3",
   "version": "3.10.2"
  }
 },
 "nbformat": 4,
 "nbformat_minor": 5
}
